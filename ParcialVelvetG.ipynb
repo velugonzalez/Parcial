{
 "cells": [
  {
   "cell_type": "markdown",
   "id": "875791c3-8865-49ae-931d-81189eaa03c8",
   "metadata": {},
   "source": [
    "## Nombre: Velvet Suan González Ramírez\n",
    "## Carné: 21001119"
   ]
  },
  {
   "cell_type": "code",
   "execution_count": 9,
   "id": "4b751d95-eb48-4075-b110-de918134ac29",
   "metadata": {},
   "outputs": [
    {
     "name": "stdout",
     "output_type": "stream",
     "text": [
      "U7J1R6V9O4H1L6 34\n",
      "Pulse 'Enter' para continuar o 'exit' para salir: \n"
     ]
    },
    {
     "name": "stdin",
     "output_type": "stream",
     "text": [
      " \n"
     ]
    },
    {
     "name": "stdout",
     "output_type": "stream",
     "text": [
      "W3T4O1L7Z2I8S3 28\n",
      "Pulse 'Enter' para continuar o 'exit' para salir: \n"
     ]
    },
    {
     "name": "stdin",
     "output_type": "stream",
     "text": [
      " \n"
     ]
    },
    {
     "name": "stdout",
     "output_type": "stream",
     "text": [
      "D0Y7C2F0N5R4M8 26\n",
      "Pulse 'Enter' para continuar o 'exit' para salir: \n"
     ]
    },
    {
     "name": "stdin",
     "output_type": "stream",
     "text": [
      " \n"
     ]
    },
    {
     "name": "stdout",
     "output_type": "stream",
     "text": [
      "Q3H7J6E5Z9C9S8 47\n",
      "Pulse 'Enter' para continuar o 'exit' para salir: \n"
     ]
    },
    {
     "name": "stdin",
     "output_type": "stream",
     "text": [
      " \n"
     ]
    },
    {
     "name": "stdout",
     "output_type": "stream",
     "text": [
      "S9X2X4R0E0Y4J8 27\n",
      "Pulse 'Enter' para continuar o 'exit' para salir: \n"
     ]
    },
    {
     "name": "stdin",
     "output_type": "stream",
     "text": [
      " exit\n"
     ]
    },
    {
     "name": "stdout",
     "output_type": "stream",
     "text": [
      "['W3T4O1L7Z2I8S3', 'D0Y7C2F0N5R4M8', 'S9X2X4R0E0Y4J8']\n",
      "{34: 'U7J1R6V9O4H1L6', 47: 'Q3H7J6E5Z9C9S8'}\n"
     ]
    }
   ],
   "source": [
    "import random\n",
    "\n",
    "arrLetras = []\n",
    "strLetras = 'ABCDEFGHIJKLMNOPQRSTUVWXYZ'\n",
    "arrLetras.extend(strLetras)\n",
    "lista = []\n",
    "lista1 = []\n",
    "lista2 = []\n",
    "suma = 0\n",
    "Salida = ''\n",
    "condicion = ''\n",
    "\n",
    "while condicion != 'exit':\n",
    "    for i in range(0, 7, 1):\n",
    "      alLetra = random.randint(0, len(arrLetras) - 1)\n",
    "      numeros = random.randint(0, 9)\n",
    "      suma = suma + numeros\n",
    "      Salida = Salida  + arrLetras[alLetra] + str(numeros)\n",
    "      if suma <= 30 and len(Salida) == 14:\n",
    "         for i in range(0,1):\n",
    "             lista.append(Salida)                    \n",
    "      if suma > 30 and len(Salida) == 14:\n",
    "         for i in range(0,1):\n",
    "             lista1.append(suma)                    \n",
    "      if suma > 30 and len(Salida) == 14:\n",
    "         for i in range(0,1):\n",
    "             lista2.append(Salida)\n",
    "    print(Salida + \" \" + str(suma))\n",
    "    Salida = ''\n",
    "    suma = 0\n",
    "    print(\"Pulse 'Enter' para continuar o 'exit' para salir: \")\n",
    "    condicion = input()\n",
    "print(lista)\n",
    "dicc = dict(zip(lista1, lista2))\n",
    "print(dicc)"
   ]
  }
 ],
 "metadata": {
  "kernelspec": {
   "display_name": "Python 3 (ipykernel)",
   "language": "python",
   "name": "python3"
  },
  "language_info": {
   "codemirror_mode": {
    "name": "ipython",
    "version": 3
   },
   "file_extension": ".py",
   "mimetype": "text/x-python",
   "name": "python",
   "nbconvert_exporter": "python",
   "pygments_lexer": "ipython3",
   "version": "3.9.7"
  }
 },
 "nbformat": 4,
 "nbformat_minor": 5
}
